{
  "nbformat": 4,
  "nbformat_minor": 0,
  "metadata": {
    "colab": {
      "provenance": []
    },
    "kernelspec": {
      "name": "python3",
      "display_name": "Python 3"
    },
    "language_info": {
      "name": "python"
    }
  },
  "cells": [
    {
      "cell_type": "code",
      "execution_count": null,
      "metadata": {
        "colab": {
          "base_uri": "https://localhost:8080/",
          "height": 608
        },
        "id": "zRV33PoCg4YV",
        "outputId": "439adacd-c989-4615-b83d-2f9e50dc7af6"
      },
      "outputs": [
        {
          "output_type": "stream",
          "name": "stdout",
          "text": [
            "Enter your Groq API key: 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\n",
            "Colab notebook detected. This cell will run indefinitely so that you can see errors and logs. To turn off, set debug=False in launch().\n",
            "* Running on public URL: https://5fb87e79fad92b9fc4.gradio.live\n",
            "\n",
            "This share link expires in 1 week. For free permanent hosting and GPU upgrades, run `gradio deploy` from the terminal in the working directory to deploy to Hugging Face Spaces (https://huggingface.co/spaces)\n"
          ]
        },
        {
          "output_type": "display_data",
          "data": {
            "text/plain": [
              "<IPython.core.display.HTML object>"
            ],
            "text/html": [
              "<div><iframe src=\"https://5fb87e79fad92b9fc4.gradio.live\" width=\"100%\" height=\"500\" allow=\"autoplay; camera; microphone; clipboard-read; clipboard-write;\" frameborder=\"0\" allowfullscreen></iframe></div>"
            ]
          },
          "metadata": {}
        }
      ],
      "source": [
        "# @title\n",
        "# =======================================================\n",
        "# 🩺 Healthcare Symptom Checker – using Groq API\n",
        "# =======================================================\n",
        "\n",
        "!pip install --quiet requests gradio\n",
        "\n",
        "import requests\n",
        "import json\n",
        "import gradio as gr\n",
        "\n",
        "# — Ask user for Groq API key —\n",
        "groq_api_key = input(\"Enter your Groq API key: \").strip()\n",
        "GROQ_ENDPOINT = \"https://api.groq.com/openai/v1/chat/completions\"\n",
        "\n",
        "# Function to query Groq API\n",
        "def check_symptoms_with_groq(symptoms, age=None, sex=None, comorbidities=None):\n",
        "    if not symptoms.strip():\n",
        "        return \"⚠️ Please enter your symptoms.\"\n",
        "\n",
        "    # System + user prompt\n",
        "    system_prompt = \"\"\"You are a healthcare assistant that provides\n",
        "educational, non-diagnostic suggestions of possible conditions and next steps based on symptoms.\n",
        "Always:\n",
        "- Use cautious, probabilistic language (\"possible\", \"could be\").\n",
        "- Flag red-flag symptoms and advise urgent care where needed.\n",
        "- Do not provide prescriptions.\n",
        "Return JSON with keys:\n",
        "  suggestions (list of {condition, confidence_percent, rationale}),\n",
        "  triage (string),\n",
        "  red_flags (list),\n",
        "  disclaimer (string)\n",
        "\"\"\"\n",
        "\n",
        "    user_prompt = f\"\"\"Symptoms: {symptoms}\n",
        "Age: {age or 'unknown'}\n",
        "Sex: {sex or 'unknown'}\n",
        "Comorbidities: {comorbidities or 'none specified'}\"\"\"\n",
        "\n",
        "    headers = {\n",
        "        \"Authorization\": f\"Bearer {groq_api_key}\",\n",
        "        \"Content-Type\": \"application/json\"\n",
        "    }\n",
        "\n",
        "    body = {\n",
        "        \"model\": \"llama-3.3-70b-versatile\",  # ✅ Supported model\n",
        "        \"messages\": [\n",
        "            {\"role\": \"system\", \"content\": system_prompt},\n",
        "            {\"role\": \"user\", \"content\": user_prompt}\n",
        "        ],\n",
        "        \"temperature\": 0.2,\n",
        "        \"max_tokens\": 600\n",
        "    }\n",
        "\n",
        "    # Call the API\n",
        "    resp = requests.post(GROQ_ENDPOINT, headers=headers, json=body)\n",
        "    if resp.status_code != 200:\n",
        "        return f\"❌ API error {resp.status_code}: {resp.text}\"\n",
        "\n",
        "    data = resp.json()\n",
        "    content = data.get(\"choices\", [{}])[0].get(\"message\", {}).get(\"content\", \"\")\n",
        "\n",
        "    # Try parse JSON\n",
        "    try:\n",
        "        start = content.index(\"{\")\n",
        "        end = content.rindex(\"}\") + 1\n",
        "        parsed = json.loads(content[start:end])\n",
        "    except Exception:\n",
        "        return f\"⚠️ Could not parse JSON. Raw output:\\n{content}\"\n",
        "\n",
        "    # Format output for display\n",
        "    out = \"## 🩺 Healthcare Symptom Checker Results\\n\"\n",
        "    out += \"**Disclaimer:** \" + parsed.get(\"disclaimer\", \"Educational only; not a diagnosis.\") + \"\\n\\n\"\n",
        "    out += \"### 🔎 Possible Conditions\\n\"\n",
        "    for s in parsed.get(\"suggestions\", []):\n",
        "        out += f\"- **{s.get('condition')}** ({s.get('confidence_percent')}%) — {s.get('rationale')}\\n\"\n",
        "    out += \"\\n### 🧭 Triage Advice\\n\" + parsed.get(\"triage\", \"N/A\") + \"\\n\"\n",
        "    if parsed.get(\"red_flags\"):\n",
        "        out += \"\\n### 🚨 Red Flags\\n\" + \", \".join(parsed[\"red_flags\"]) + \"\\n\"\n",
        "    return out\n",
        "\n",
        "\n",
        "# Gradio interface\n",
        "demo = gr.Interface(\n",
        "    fn=check_symptoms_with_groq,\n",
        "    inputs=[\n",
        "        gr.Textbox(label=\"Symptoms\", placeholder=\"e.g. fever, cough, fatigue\"),\n",
        "        gr.Textbox(label=\"Age (optional)\"),\n",
        "        gr.Textbox(label=\"Sex (optional)\"),\n",
        "        gr.Textbox(label=\"Comorbidities (optional)\")\n",
        "    ],\n",
        "    outputs=gr.Markdown(),\n",
        "    title=\"Symptom Checker using Groq\",\n",
        "    description=\"Enter symptoms to get educational possible conditions & next steps. ⚠️ Not medical advice.\"\n",
        ")\n",
        "\n",
        "# Launch app\n",
        "demo.launch(share=True, inbrowser=True, debug=True)\n"
      ]
    }
  ]
}